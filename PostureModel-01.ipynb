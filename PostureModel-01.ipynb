{
 "cells": [
  {
   "cell_type": "code",
   "execution_count": 3,
   "id": "6fbb0f04",
   "metadata": {},
   "outputs": [],
   "source": [
    "import pandas as pd\n",
    "import numpy as np"
   ]
  },
  {
   "cell_type": "code",
   "execution_count": 4,
   "id": "7cd31854",
   "metadata": {},
   "outputs": [
    {
     "data": {
      "text/html": [
       "<div>\n",
       "<style scoped>\n",
       "    .dataframe tbody tr th:only-of-type {\n",
       "        vertical-align: middle;\n",
       "    }\n",
       "\n",
       "    .dataframe tbody tr th {\n",
       "        vertical-align: top;\n",
       "    }\n",
       "\n",
       "    .dataframe thead th {\n",
       "        text-align: right;\n",
       "    }\n",
       "</style>\n",
       "<table border=\"1\" class=\"dataframe\">\n",
       "  <thead>\n",
       "    <tr style=\"text-align: right;\">\n",
       "      <th></th>\n",
       "      <th>Timestamp</th>\n",
       "      <th>Gyro_X</th>\n",
       "      <th>Gyro_Y</th>\n",
       "      <th>Gyro_Z</th>\n",
       "      <th>Accel_X</th>\n",
       "      <th>Accel_Y</th>\n",
       "      <th>Accel_Z</th>\n",
       "      <th>Label</th>\n",
       "    </tr>\n",
       "  </thead>\n",
       "  <tbody>\n",
       "    <tr>\n",
       "      <th>0</th>\n",
       "      <td>11000</td>\n",
       "      <td>1.80</td>\n",
       "      <td>-1.04</td>\n",
       "      <td>4.76</td>\n",
       "      <td>0.19</td>\n",
       "      <td>0.93</td>\n",
       "      <td>-0.11</td>\n",
       "      <td>Wrong</td>\n",
       "    </tr>\n",
       "    <tr>\n",
       "      <th>1</th>\n",
       "      <td>12000</td>\n",
       "      <td>1.28</td>\n",
       "      <td>0.73</td>\n",
       "      <td>8.12</td>\n",
       "      <td>0.28</td>\n",
       "      <td>0.94</td>\n",
       "      <td>0.01</td>\n",
       "      <td>Wrong</td>\n",
       "    </tr>\n",
       "    <tr>\n",
       "      <th>2</th>\n",
       "      <td>12541</td>\n",
       "      <td>1.22</td>\n",
       "      <td>2.62</td>\n",
       "      <td>1.28</td>\n",
       "      <td>0.07</td>\n",
       "      <td>0.41</td>\n",
       "      <td>0.93</td>\n",
       "      <td>Correct</td>\n",
       "    </tr>\n",
       "    <tr>\n",
       "      <th>3</th>\n",
       "      <td>12646</td>\n",
       "      <td>0.06</td>\n",
       "      <td>-1.04</td>\n",
       "      <td>2.26</td>\n",
       "      <td>0.01</td>\n",
       "      <td>0.98</td>\n",
       "      <td>0.08</td>\n",
       "      <td>Correct</td>\n",
       "    </tr>\n",
       "    <tr>\n",
       "      <th>4</th>\n",
       "      <td>13000</td>\n",
       "      <td>5.86</td>\n",
       "      <td>5.68</td>\n",
       "      <td>4.39</td>\n",
       "      <td>0.32</td>\n",
       "      <td>0.99</td>\n",
       "      <td>-0.15</td>\n",
       "      <td>Wrong</td>\n",
       "    </tr>\n",
       "  </tbody>\n",
       "</table>\n",
       "</div>"
      ],
      "text/plain": [
       "   Timestamp  Gyro_X  Gyro_Y  Gyro_Z  Accel_X  Accel_Y  Accel_Z    Label\n",
       "0      11000    1.80   -1.04    4.76     0.19     0.93    -0.11    Wrong\n",
       "1      12000    1.28    0.73    8.12     0.28     0.94     0.01    Wrong\n",
       "2      12541    1.22    2.62    1.28     0.07     0.41     0.93  Correct\n",
       "3      12646    0.06   -1.04    2.26     0.01     0.98     0.08  Correct\n",
       "4      13000    5.86    5.68    4.39     0.32     0.99    -0.15    Wrong"
      ]
     },
     "execution_count": 4,
     "metadata": {},
     "output_type": "execute_result"
    }
   ],
   "source": [
    "# Load the data from CSV\n",
    "data = pd.read_csv('sensor_data.csv')\n",
    "\n",
    "# Preview the data\n",
    "data.head()"
   ]
  },
  {
   "cell_type": "code",
   "execution_count": 5,
   "id": "3c06040f",
   "metadata": {},
   "outputs": [
    {
     "data": {
      "text/plain": [
       "(     Gyro_X    Gyro_Y    Gyro_Z  Gyro_magnitude   Accel_X   Accel_Y   Accel_Z  \\\n",
       " 0  0.686361 -0.121395  2.223081        2.329789  0.670630  1.224176 -1.917715   \n",
       " 1  0.337549  0.554424  4.568636        4.614516  1.345352  1.251721 -1.619327   \n",
       " 2  0.297302  1.276062 -0.206244        1.326370 -0.229000 -0.208161  0.668316   \n",
       " 3 -0.480818 -0.121395  0.477876        0.688686 -0.678815  1.361901 -1.445267   \n",
       " 4  3.409780  2.444427  1.964790        4.632734  1.645229  1.389446 -2.017178   \n",
       " \n",
       "    Accel_magnitude  \n",
       " 0         2.371916  \n",
       " 1         2.449285  \n",
       " 2         0.736491  \n",
       " 3         2.098657  \n",
       " 4         2.950652  ,\n",
       " 0    0\n",
       " 1    0\n",
       " 2    1\n",
       " 3    1\n",
       " 4    0\n",
       " Name: Label, dtype: int64)"
      ]
     },
     "execution_count": 5,
     "metadata": {},
     "output_type": "execute_result"
    }
   ],
   "source": [
    "# Drop participant and timestamp columns\n",
    "data = data.drop(columns=['Timestamp'])\n",
    "\n",
    "# Map 'correct' and 'wrong' labels to 1 and 0\n",
    "data['Label'] = data['Label'].map({'Correct': 1, 'Wrong': 0})\n",
    "\n",
    "# Normalise the gyroscope data (X, Y, Z) by subtracting the mean and dividing by the standard deviation\n",
    "data[['Gyro_X', 'Gyro_Y', 'Gyro_Z']] = (data[['Gyro_X', 'Gyro_Y', 'Gyro_Z']] - data[['Gyro_X', 'Gyro_Y', 'Gyro_Z']].mean()) / data[['Gyro_X', 'Gyro_Y', 'Gyro_Z']].std()\n",
    "\n",
    "# Normalise the accelerometer data (X, Y, Z) by subtracting the mean and dividing by the standard deviation\n",
    "data[['Accel_X', 'Accel_Y', 'Accel_Z']] = (data[['Accel_X', 'Accel_Y', 'Accel_Z']] - data[['Accel_X', 'Accel_Y', 'Accel_Z']].mean()) / data[['Accel_X', 'Accel_Y', 'Accel_Z']].std()\n",
    "\n",
    "# Calculate the magnitude of the gyroscope data (X, Y, Z)\n",
    "data['Gyro_magnitude'] = np.sqrt(data['Gyro_X']**2 + data['Gyro_Y']**2 + data['Gyro_Z']**2)\n",
    "\n",
    "# Calculate the magnitude of the accelerometer data (X, Y, Z)\n",
    "data['Accel_magnitude'] = np.sqrt(data['Accel_X']**2 + data['Accel_Y']**2 + data['Accel_Z']**2)\n",
    "\n",
    "# Update the feature set to include the gyroscope and accelerometer data, along with their magnitudes\n",
    "features = data[['Gyro_X', 'Gyro_Y', 'Gyro_Z', 'Gyro_magnitude', 'Accel_X', 'Accel_Y', 'Accel_Z', 'Accel_magnitude']]\n",
    "\n",
    "# Separate the features and labels\n",
    "X = features\n",
    "y = data['Label']\n",
    "\n",
    "# Check the processed data\n",
    "X.head(), y.head()\n"
   ]
  },
  {
   "cell_type": "code",
   "execution_count": 13,
   "id": "d9abad2f",
   "metadata": {},
   "outputs": [
    {
     "name": "stdout",
     "output_type": "stream",
     "text": [
      "Gyroscope Mean: Gyro_X    3.081435e-17\n",
      "Gyro_Y    4.350262e-17\n",
      "Gyro_Z   -2.401707e-17\n",
      "dtype: float64\n",
      "Gyroscope Standard Deviation: Gyro_X    1.0\n",
      "Gyro_Y    1.0\n",
      "Gyro_Z    1.0\n",
      "dtype: float64\n",
      "Accelerometer Mean: Accel_X    4.350262e-17\n",
      "Accel_Y    1.450087e-16\n",
      "Accel_Z    3.081435e-17\n",
      "dtype: float64\n",
      "Accelerometer Standard Deviation: Accel_X    1.0\n",
      "Accel_Y    1.0\n",
      "Accel_Z    1.0\n",
      "dtype: float64\n"
     ]
    }
   ],
   "source": [
    "# Calculate the mean and standard deviation for each feature (Gyro_X, Gyro_Y, Gyro_Z, Accel_X, Accel_Y, Accel_Z)\n",
    "gyro_features = ['Gyro_X', 'Gyro_Y', 'Gyro_Z']\n",
    "accel_features = ['Accel_X', 'Accel_Y', 'Accel_Z']\n",
    "\n",
    "# Calculate mean and std for gyroscope features\n",
    "gyro_mean = data[gyro_features].mean()\n",
    "gyro_std = data[gyro_features].std()\n",
    "\n",
    "# Calculate mean and std for accelerometer features\n",
    "accel_mean = data[accel_features].mean()\n",
    "accel_std = data[accel_features].std()\n",
    "\n",
    "# Print the results\n",
    "print(\"Gyroscope Mean:\", gyro_mean)\n",
    "print(\"Gyroscope Standard Deviation:\", gyro_std)\n",
    "print(\"Accelerometer Mean:\", accel_mean)\n",
    "print(\"Accelerometer Standard Deviation:\", accel_std)"
   ]
  },
  {
   "cell_type": "code",
   "execution_count": 6,
   "id": "bbf043f2",
   "metadata": {},
   "outputs": [
    {
     "data": {
      "text/plain": [
       "((1568, 8), (392, 8), (1568,), (392,))"
      ]
     },
     "execution_count": 6,
     "metadata": {},
     "output_type": "execute_result"
    }
   ],
   "source": [
    "from sklearn.model_selection import train_test_split\n",
    "\n",
    "# Split the data into training and testing sets (80% train, 20% test)\n",
    "X_train, X_test, y_train, y_test = train_test_split(X, y, test_size=0.2, random_state=42)\n",
    "\n",
    "# Check the split data sizes\n",
    "X_train.shape, X_test.shape, y_train.shape, y_test.shape"
   ]
  },
  {
   "cell_type": "code",
   "execution_count": 14,
   "id": "647a57f1",
   "metadata": {},
   "outputs": [
    {
     "name": "stdout",
     "output_type": "stream",
     "text": [
      "Model: \"sequential_2\"\n",
      "_________________________________________________________________\n",
      " Layer (type)                Output Shape              Param #   \n",
      "=================================================================\n",
      " dense_6 (Dense)             (None, 48)                432       \n",
      "                                                                 \n",
      " dense_7 (Dense)             (None, 32)                1568      \n",
      "                                                                 \n",
      " dense_8 (Dense)             (None, 1)                 33        \n",
      "                                                                 \n",
      "=================================================================\n",
      "Total params: 2,033\n",
      "Trainable params: 2,033\n",
      "Non-trainable params: 0\n",
      "_________________________________________________________________\n"
     ]
    }
   ],
   "source": [
    "import tensorflow as tf\n",
    "from tensorflow.keras.models import Sequential\n",
    "from tensorflow.keras.layers import Dense\n",
    "\n",
    "# Define the model\n",
    "model = Sequential([\n",
    "    Dense(48, activation='relu', input_shape=(X_train.shape[1],)),  # 64 neurons in the hidden layer\n",
    "    Dense(32, activation='relu'),                                  # Another hidden layer\n",
    "    Dense(1, activation='sigmoid')                                  # Sigmoid for binary classification (correct or wrong)\n",
    "])\n",
    "\n",
    "# Compile the model\n",
    "model.compile(optimizer='adam', loss='binary_crossentropy', metrics=['accuracy'])\n",
    "\n",
    "# Summarize the model architecture\n",
    "model.summary()\n"
   ]
  },
  {
   "cell_type": "code",
   "execution_count": 15,
   "id": "fc00c62a",
   "metadata": {},
   "outputs": [
    {
     "name": "stdout",
     "output_type": "stream",
     "text": [
      "Epoch 1/10\n",
      "49/49 [==============================] - 1s 5ms/step - loss: 0.6262 - accuracy: 0.6129 - val_loss: 0.5581 - val_accuracy: 0.8036\n",
      "Epoch 2/10\n",
      "49/49 [==============================] - 0s 2ms/step - loss: 0.5044 - accuracy: 0.8125 - val_loss: 0.4298 - val_accuracy: 0.8469\n",
      "Epoch 3/10\n",
      "49/49 [==============================] - 0s 2ms/step - loss: 0.3803 - accuracy: 0.8967 - val_loss: 0.3125 - val_accuracy: 0.9592\n",
      "Epoch 4/10\n",
      "49/49 [==============================] - 0s 2ms/step - loss: 0.2752 - accuracy: 0.9707 - val_loss: 0.2306 - val_accuracy: 0.9719\n",
      "Epoch 5/10\n",
      "49/49 [==============================] - 0s 2ms/step - loss: 0.2011 - accuracy: 0.9751 - val_loss: 0.1731 - val_accuracy: 0.9694\n",
      "Epoch 6/10\n",
      "49/49 [==============================] - 0s 2ms/step - loss: 0.1515 - accuracy: 0.9783 - val_loss: 0.1301 - val_accuracy: 0.9770\n",
      "Epoch 7/10\n",
      "49/49 [==============================] - 0s 2ms/step - loss: 0.1180 - accuracy: 0.9790 - val_loss: 0.1071 - val_accuracy: 0.9847\n",
      "Epoch 8/10\n",
      "49/49 [==============================] - 0s 2ms/step - loss: 0.0959 - accuracy: 0.9828 - val_loss: 0.0886 - val_accuracy: 0.9821\n",
      "Epoch 9/10\n",
      "49/49 [==============================] - 0s 2ms/step - loss: 0.0789 - accuracy: 0.9828 - val_loss: 0.0745 - val_accuracy: 0.9898\n",
      "Epoch 10/10\n",
      "49/49 [==============================] - 0s 2ms/step - loss: 0.0664 - accuracy: 0.9860 - val_loss: 0.0668 - val_accuracy: 0.9898\n"
     ]
    },
    {
     "data": {
      "image/png": "[encoded data removed]",
      "text/plain": [
       "<Figure size 1200x600 with 2 Axes>"
      ]
     },
     "metadata": {},
     "output_type": "display_data"
    }
   ],
   "source": [
    "# Train the model\n",
    "history = model.fit(X_train, y_train, epochs=10, batch_size=32, validation_data=(X_test, y_test))\n",
    "\n",
    "# Plot training history\n",
    "import matplotlib.pyplot as plt\n",
    "\n",
    "# Plot accuracy and loss curves\n",
    "plt.figure(figsize=(12, 6))\n",
    "\n",
    "# Accuracy plot\n",
    "plt.subplot(1, 2, 1)\n",
    "plt.plot(history.history['accuracy'], label='train accuracy')\n",
    "plt.plot(history.history['val_accuracy'], label='test accuracy')\n",
    "plt.title('Model Accuracy')\n",
    "plt.xlabel('Epoch')\n",
    "plt.ylabel('Accuracy')\n",
    "plt.legend()\n",
    "\n",
    "# Loss plot\n",
    "plt.subplot(1, 2, 2)\n",
    "plt.plot(history.history['loss'], label='train loss')\n",
    "plt.plot(history.history['val_loss'], label='test loss')\n",
    "plt.title('Model Loss')\n",
    "plt.xlabel('Epoch')\n",
    "plt.ylabel('Loss')\n",
    "plt.legend()\n",
    "\n",
    "plt.show()\n"
   ]
  },
  {
   "cell_type": "code",
   "execution_count": 16,
   "id": "c497a843",
   "metadata": {
    "scrolled": true
   },
   "outputs": [
    {
     "name": "stdout",
     "output_type": "stream",
     "text": [
      "13/13 [==============================] - 0s 1ms/step - loss: 0.0668 - accuracy: 0.9898\n",
      "Test Accuracy: 98.98%\n",
      "Test Loss: 0.0668\n"
     ]
    }
   ],
   "source": [
    "# Evaluate the model on the test data\n",
    "test_loss, test_acc = model.evaluate(X_test, y_test)\n",
    "\n",
    "print(f\"Test Accuracy: {test_acc*100:.2f}%\")\n",
    "print(f\"Test Loss: {test_loss:.4f}\")"
   ]
  },
  {
   "cell_type": "code",
   "execution_count": 17,
   "id": "829777f2",
   "metadata": {},
   "outputs": [],
   "source": [
    "# Save the model to an HDF5 file\n",
    "model.save('posture_model.h5')"
   ]
  },
  {
   "cell_type": "code",
   "execution_count": 18,
   "id": "f564d1e8",
   "metadata": {},
   "outputs": [
    {
     "name": "stderr",
     "output_type": "stream",
     "text": [
      "WARNING:absl:Found untraced functions such as _update_step_xla while saving (showing 1 of 1). These functions will not be directly callable after loading.\n"
     ]
    },
    {
     "name": "stdout",
     "output_type": "stream",
     "text": [
      "INFO:tensorflow:Assets written to: C:\\Users\\n55iw\\AppData\\Local\\Temp\\tmp7c_e8imk\\assets\n"
     ]
    },
    {
     "name": "stderr",
     "output_type": "stream",
     "text": [
      "INFO:tensorflow:Assets written to: C:\\Users\\n55iw\\AppData\\Local\\Temp\\tmp7c_e8imk\\assets\n"
     ]
    }
   ],
   "source": [
    "import tensorflow as tf\n",
    "\n",
    "# Load the model\n",
    "model = tf.keras.models.load_model('posture_model.h5')\n",
    "\n",
    "# Convert the Keras model to TensorFlow Lite format\n",
    "converter = tf.lite.TFLiteConverter.from_keras_model(model)\n",
    "tflite_model = converter.convert()\n",
    "\n",
    "# Convert TensorFlow Lite model to C array\n",
    "with open('posture_model.tflite', 'rb') as f:\n",
    "    byte_array = f.read()\n",
    "\n",
    "# Save the array to a header file\n",
    "with open('model_tflite.h', 'w') as header_file:\n",
    "    header_file.write('const unsigned char model_tflite[] PROGMEM = {')\n",
    "    for byte in byte_array:\n",
    "        header_file.write(f'{byte}, ')\n",
    "    header_file.write('};')"
   ]
  },
  {
   "cell_type": "code",
   "execution_count": null,
   "id": "5e37940c",
   "metadata": {},
   "outputs": [],
   "source": []
  }
 ],
 "metadata": {
  "kernelspec": {
   "display_name": "Python 3 (ipykernel)",
   "language": "python",
   "name": "python3"
  },
  "language_info": {
   "codemirror_mode": {
    "name": "ipython",
    "version": 3
   },
   "file_extension": ".py",
   "mimetype": "text/x-python",
   "name": "python",
   "nbconvert_exporter": "python",
   "pygments_lexer": "ipython3",
   "version": "3.9.13"
  }
 },
 "nbformat": 4,
 "nbformat_minor": 5
}
